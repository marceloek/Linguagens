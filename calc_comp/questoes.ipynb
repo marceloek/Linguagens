{
 "cells": [
  {
   "cell_type": "code",
   "execution_count": 1,
   "metadata": {},
   "outputs": [
    {
     "name": "stdout",
     "output_type": "stream",
     "text": "analise marginal:  2100\ntaxa de variacao:  2069\n"
    }
   ],
   "source": [
    "import sympy as sym\n",
    "\n",
    "x_sb, y_sb, z_sb = sym.symbols('x y z')\n",
    "\n",
    "f = 1200*x_sb + 500*y_sb + pow(x_sb,2)*y_sb - pow(x_sb,3) - pow(y_sb,2)\n",
    "\n",
    "funcao_linha = sym.diff(f,x_sb)\n",
    "z = lambda x, y: eval(str(funcao_linha))\n",
    "print('analise marginal: ', z(30,60))\n",
    "\n",
    "# taxa de variacao\n",
    "fx = lambda x, y: 1200*x + 500*y + pow(x,2)*y - pow(x,3) - pow(y,2)\n",
    "print('taxa de variacao: ', fx(30+1,60)-fx(30,60))\n"
   ]
  }
 ],
 "metadata": {
  "kernelspec": {
   "display_name": "Python 3",
   "language": "python",
   "name": "python3"
  },
  "language_info": {
   "codemirror_mode": {
    "name": "ipython",
    "version": 3
   },
   "file_extension": ".py",
   "mimetype": "text/x-python",
   "name": "python",
   "nbconvert_exporter": "python",
   "pygments_lexer": "ipython3",
   "version": "3.6.8"
  }
 },
 "nbformat": 4,
 "nbformat_minor": 2
}